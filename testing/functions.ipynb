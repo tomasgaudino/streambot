{
 "cells": [
  {
   "cell_type": "code",
   "execution_count": 3,
   "metadata": {},
   "outputs": [],
   "source": [
    "import subprocess"
   ]
  },
  {
   "cell_type": "code",
   "execution_count": 7,
   "metadata": {},
   "outputs": [],
   "source": [
    "# Get docker\n",
    "def docker_display_stdout():\n",
    "    # Store output\n",
    "    result = subprocess.Popen(['docker','ps','-a'], stdout=subprocess.PIPE)\n",
    "    # Transform output\n",
    "    draft = []\n",
    "    for line in iter(lambda: result.stdout.readline(), b\"\"):\n",
    "        draft.append(line.decode(\"utf-8\"))\n",
    "    return draft"
   ]
  },
  {
   "cell_type": "code",
   "execution_count": 8,
   "metadata": {},
   "outputs": [],
   "source": [
    "draft = docker_display_stdout()"
   ]
  },
  {
   "cell_type": "code",
   "execution_count": 9,
   "metadata": {},
   "outputs": [
    {
     "data": {
      "text/plain": [
       "['CONTAINER ID   IMAGE                         COMMAND                  CREATED      STATUS                    PORTS     NAMES\\n',\n",
       " '0ff05a432856   coinalpha/hummingbot:latest   \"/bin/bash -lc \\'/hom…\"   2 days ago   Exited (255) 2 days ago             hummingbot-instance\\n']"
      ]
     },
     "execution_count": 9,
     "metadata": {},
     "output_type": "execute_result"
    }
   ],
   "source": [
    "draft"
   ]
  },
  {
   "cell_type": "code",
   "execution_count": 18,
   "metadata": {},
   "outputs": [
    {
     "data": {
      "text/plain": [
       "'container_id   image                         command                  created      status                    ports     name'"
      ]
     },
     "execution_count": 18,
     "metadata": {},
     "output_type": "execute_result"
    }
   ],
   "source": [
    "draft[0].replace('CONTAINER ID','container_id').lower()[:-2].replace(r\"^(\\s+)\",',')"
   ]
  },
  {
   "cell_type": "code",
   "execution_count": null,
   "metadata": {},
   "outputs": [],
   "source": []
  }
 ],
 "metadata": {
  "kernelspec": {
   "display_name": "Python 3.10.4 ('drupman-EyaJBmF5')",
   "language": "python",
   "name": "python3"
  },
  "language_info": {
   "codemirror_mode": {
    "name": "ipython",
    "version": 3
   },
   "file_extension": ".py",
   "mimetype": "text/x-python",
   "name": "python",
   "nbconvert_exporter": "python",
   "pygments_lexer": "ipython3",
   "version": "3.10.4"
  },
  "orig_nbformat": 4,
  "vscode": {
   "interpreter": {
    "hash": "3b80a9e9b1ef2203acf5e29ecb9abb7ee04b287794d595eefe18b5beeeb12ea2"
   }
  }
 },
 "nbformat": 4,
 "nbformat_minor": 2
}
